{
 "cells": [
  {
   "cell_type": "markdown",
   "id": "b9438e20-5ef5-40b2-8b8e-89922ced480f",
   "metadata": {},
   "source": [
    "### Pandas\n",
    "- Pandas is a python library used for data manipulation and analysis\n",
    "- A pandas Series is a one-D labeled array that can hold any data type. It is like a column in a DataFrame and each of its element is associated with an index.\n",
    "- DataFrame is a 2-dimensional labeled data structure with columns of potentially different types and nows."
   ]
  },
  {
   "cell_type": "code",
   "execution_count": 2,
   "id": "f573e3fe-4141-4bf0-a984-7eabbda54cc8",
   "metadata": {},
   "outputs": [],
   "source": [
    "import pandas as pd"
   ]
  },
  {
   "cell_type": "code",
   "execution_count": 3,
   "id": "ac203ab8-c352-4fff-a8e7-99d363036169",
   "metadata": {},
   "outputs": [],
   "source": [
    "# creating a series from a list\n",
    "D = [ i for i in range (1, 11)]"
   ]
  },
  {
   "cell_type": "code",
   "execution_count": 4,
   "id": "155b9d07-d70e-456c-a91f-07be235160b3",
   "metadata": {},
   "outputs": [
    {
     "data": {
      "text/plain": [
       "[1, 2, 3, 4, 5, 6, 7, 8, 9, 10]"
      ]
     },
     "execution_count": 4,
     "metadata": {},
     "output_type": "execute_result"
    }
   ],
   "source": [
    "D"
   ]
  },
  {
   "cell_type": "code",
   "execution_count": 5,
   "id": "3ea2f9a4-ba56-42ab-869f-23a258ac2a9a",
   "metadata": {},
   "outputs": [],
   "source": [
    "v = pd.Series(D)"
   ]
  },
  {
   "cell_type": "code",
   "execution_count": 6,
   "id": "8e293041-70b5-4748-8946-68c29a228fe2",
   "metadata": {},
   "outputs": [
    {
     "data": {
      "text/plain": [
       "0     1\n",
       "1     2\n",
       "2     3\n",
       "3     4\n",
       "4     5\n",
       "5     6\n",
       "6     7\n",
       "7     8\n",
       "8     9\n",
       "9    10\n",
       "dtype: int64"
      ]
     },
     "execution_count": 6,
     "metadata": {},
     "output_type": "execute_result"
    }
   ],
   "source": [
    "v"
   ]
  },
  {
   "cell_type": "code",
   "execution_count": 7,
   "id": "be031fd3-f922-4a63-bde8-96ef5eee49e7",
   "metadata": {},
   "outputs": [],
   "source": [
    "v = pd.Series(D, index =['a', 'b', 'c', 'd', 'e', 'f', 'g', 'h', 'i', 'j'])"
   ]
  },
  {
   "cell_type": "code",
   "execution_count": 8,
   "id": "ac9c59f5-69a8-4760-aca9-e16780c8cb7e",
   "metadata": {},
   "outputs": [
    {
     "data": {
      "text/plain": [
       "a     1\n",
       "b     2\n",
       "c     3\n",
       "d     4\n",
       "e     5\n",
       "f     6\n",
       "g     7\n",
       "h     8\n",
       "i     9\n",
       "j    10\n",
       "dtype: int64"
      ]
     },
     "execution_count": 8,
     "metadata": {},
     "output_type": "execute_result"
    }
   ],
   "source": [
    "v"
   ]
  },
  {
   "cell_type": "code",
   "execution_count": 9,
   "id": "6bbf7ab4-a494-417f-846c-791a8f38e043",
   "metadata": {},
   "outputs": [
    {
     "data": {
      "text/plain": [
       "2"
      ]
     },
     "execution_count": 9,
     "metadata": {},
     "output_type": "execute_result"
    }
   ],
   "source": [
    "v['e'] - v['c']"
   ]
  },
  {
   "cell_type": "code",
   "execution_count": 10,
   "id": "edeac639-ca4a-477e-b023-170b0d2f5db5",
   "metadata": {},
   "outputs": [
    {
     "data": {
      "text/plain": [
       "count    10.00000\n",
       "mean      5.50000\n",
       "std       3.02765\n",
       "min       1.00000\n",
       "25%       3.25000\n",
       "50%       5.50000\n",
       "75%       7.75000\n",
       "max      10.00000\n",
       "dtype: float64"
      ]
     },
     "execution_count": 10,
     "metadata": {},
     "output_type": "execute_result"
    }
   ],
   "source": [
    "v.describe()"
   ]
  },
  {
   "cell_type": "code",
   "execution_count": 11,
   "id": "a956ca3f-0b4b-4e29-8672-33dbefc29106",
   "metadata": {},
   "outputs": [],
   "source": [
    "# creating a dataframe from a dict\n",
    "\n",
    "dsc ={\"Name\": [\"Kola Kola\", \"Abiodun Isaiah\", \"Iretiogo Toluwani\", \"Victor Ojo\", \"Tope Adejare\"],\n",
    "      \"Gender\":[\"M\", \"M\", \"F\", \"M\", \"M\"],\n",
    "      \"Age\" :[35,32,45,28,26],\n",
    "      \"Location\" :[\"Abuja\", \"Ibadan\", \"Lagos\", \"Kano\", \"Jos\"],\n",
    "      \"Religion\" :[\"Christian\", \"Musilim\", \"Budduh\", \"Christain \", \"Christain\"]}"
   ]
  },
  {
   "cell_type": "code",
   "execution_count": 12,
   "id": "2e0c203c-95c0-4167-842c-d3847fdca4ea",
   "metadata": {},
   "outputs": [
    {
     "data": {
      "text/plain": [
       "{'Name': ['Kola Kola',\n",
       "  'Abiodun Isaiah',\n",
       "  'Iretiogo Toluwani',\n",
       "  'Victor Ojo',\n",
       "  'Tope Adejare'],\n",
       " 'Gender': ['M', 'M', 'F', 'M', 'M'],\n",
       " 'Age': [35, 32, 45, 28, 26],\n",
       " 'Location': ['Abuja', 'Ibadan', 'Lagos', 'Kano', 'Jos'],\n",
       " 'Religion': ['Christian', 'Musilim', 'Budduh', 'Christain ', 'Christain']}"
      ]
     },
     "execution_count": 12,
     "metadata": {},
     "output_type": "execute_result"
    }
   ],
   "source": [
    "dsc"
   ]
  },
  {
   "cell_type": "code",
   "execution_count": 13,
   "id": "c11cfccb-43eb-48a2-9d41-822b947bd7c5",
   "metadata": {},
   "outputs": [],
   "source": [
    "B = pd.DataFrame(dsc)"
   ]
  },
  {
   "cell_type": "code",
   "execution_count": 14,
   "id": "6b8934d6-62d9-4316-b59d-73e98158096b",
   "metadata": {},
   "outputs": [
    {
     "data": {
      "text/html": [
       "<div>\n",
       "<style scoped>\n",
       "    .dataframe tbody tr th:only-of-type {\n",
       "        vertical-align: middle;\n",
       "    }\n",
       "\n",
       "    .dataframe tbody tr th {\n",
       "        vertical-align: top;\n",
       "    }\n",
       "\n",
       "    .dataframe thead th {\n",
       "        text-align: right;\n",
       "    }\n",
       "</style>\n",
       "<table border=\"1\" class=\"dataframe\">\n",
       "  <thead>\n",
       "    <tr style=\"text-align: right;\">\n",
       "      <th></th>\n",
       "      <th>Name</th>\n",
       "      <th>Gender</th>\n",
       "      <th>Age</th>\n",
       "      <th>Location</th>\n",
       "      <th>Religion</th>\n",
       "    </tr>\n",
       "  </thead>\n",
       "  <tbody>\n",
       "    <tr>\n",
       "      <th>0</th>\n",
       "      <td>Kola Kola</td>\n",
       "      <td>M</td>\n",
       "      <td>35</td>\n",
       "      <td>Abuja</td>\n",
       "      <td>Christian</td>\n",
       "    </tr>\n",
       "    <tr>\n",
       "      <th>1</th>\n",
       "      <td>Abiodun Isaiah</td>\n",
       "      <td>M</td>\n",
       "      <td>32</td>\n",
       "      <td>Ibadan</td>\n",
       "      <td>Musilim</td>\n",
       "    </tr>\n",
       "    <tr>\n",
       "      <th>2</th>\n",
       "      <td>Iretiogo Toluwani</td>\n",
       "      <td>F</td>\n",
       "      <td>45</td>\n",
       "      <td>Lagos</td>\n",
       "      <td>Budduh</td>\n",
       "    </tr>\n",
       "    <tr>\n",
       "      <th>3</th>\n",
       "      <td>Victor Ojo</td>\n",
       "      <td>M</td>\n",
       "      <td>28</td>\n",
       "      <td>Kano</td>\n",
       "      <td>Christain</td>\n",
       "    </tr>\n",
       "    <tr>\n",
       "      <th>4</th>\n",
       "      <td>Tope Adejare</td>\n",
       "      <td>M</td>\n",
       "      <td>26</td>\n",
       "      <td>Jos</td>\n",
       "      <td>Christain</td>\n",
       "    </tr>\n",
       "  </tbody>\n",
       "</table>\n",
       "</div>"
      ],
      "text/plain": [
       "                Name Gender  Age Location    Religion\n",
       "0          Kola Kola      M   35    Abuja   Christian\n",
       "1     Abiodun Isaiah      M   32   Ibadan     Musilim\n",
       "2  Iretiogo Toluwani      F   45    Lagos      Budduh\n",
       "3         Victor Ojo      M   28     Kano  Christain \n",
       "4       Tope Adejare      M   26      Jos   Christain"
      ]
     },
     "execution_count": 14,
     "metadata": {},
     "output_type": "execute_result"
    }
   ],
   "source": [
    "B"
   ]
  },
  {
   "cell_type": "code",
   "execution_count": 15,
   "id": "a5f53a84-36d9-40c6-a227-4c0368c202cc",
   "metadata": {},
   "outputs": [
    {
     "data": {
      "text/html": [
       "<div>\n",
       "<style scoped>\n",
       "    .dataframe tbody tr th:only-of-type {\n",
       "        vertical-align: middle;\n",
       "    }\n",
       "\n",
       "    .dataframe tbody tr th {\n",
       "        vertical-align: top;\n",
       "    }\n",
       "\n",
       "    .dataframe thead th {\n",
       "        text-align: right;\n",
       "    }\n",
       "</style>\n",
       "<table border=\"1\" class=\"dataframe\">\n",
       "  <thead>\n",
       "    <tr style=\"text-align: right;\">\n",
       "      <th></th>\n",
       "      <th>Name</th>\n",
       "      <th>Gender</th>\n",
       "      <th>Age</th>\n",
       "      <th>Location</th>\n",
       "      <th>Religion</th>\n",
       "    </tr>\n",
       "  </thead>\n",
       "  <tbody>\n",
       "    <tr>\n",
       "      <th>0</th>\n",
       "      <td>Kola Kola</td>\n",
       "      <td>M</td>\n",
       "      <td>35</td>\n",
       "      <td>Abuja</td>\n",
       "      <td>Christian</td>\n",
       "    </tr>\n",
       "    <tr>\n",
       "      <th>1</th>\n",
       "      <td>Abiodun Isaiah</td>\n",
       "      <td>M</td>\n",
       "      <td>32</td>\n",
       "      <td>Ibadan</td>\n",
       "      <td>Musilim</td>\n",
       "    </tr>\n",
       "    <tr>\n",
       "      <th>2</th>\n",
       "      <td>Iretiogo Toluwani</td>\n",
       "      <td>F</td>\n",
       "      <td>45</td>\n",
       "      <td>Lagos</td>\n",
       "      <td>Budduh</td>\n",
       "    </tr>\n",
       "    <tr>\n",
       "      <th>3</th>\n",
       "      <td>Victor Ojo</td>\n",
       "      <td>M</td>\n",
       "      <td>28</td>\n",
       "      <td>Kano</td>\n",
       "      <td>Christain</td>\n",
       "    </tr>\n",
       "    <tr>\n",
       "      <th>4</th>\n",
       "      <td>Tope Adejare</td>\n",
       "      <td>M</td>\n",
       "      <td>26</td>\n",
       "      <td>Jos</td>\n",
       "      <td>Christain</td>\n",
       "    </tr>\n",
       "  </tbody>\n",
       "</table>\n",
       "</div>"
      ],
      "text/plain": [
       "                Name Gender  Age Location    Religion\n",
       "0          Kola Kola      M   35    Abuja   Christian\n",
       "1     Abiodun Isaiah      M   32   Ibadan     Musilim\n",
       "2  Iretiogo Toluwani      F   45    Lagos      Budduh\n",
       "3         Victor Ojo      M   28     Kano  Christain \n",
       "4       Tope Adejare      M   26      Jos   Christain"
      ]
     },
     "execution_count": 15,
     "metadata": {},
     "output_type": "execute_result"
    }
   ],
   "source": [
    "B.head()"
   ]
  },
  {
   "cell_type": "code",
   "execution_count": 16,
   "id": "b6f398fa-f0d8-4061-8140-3ee6bb306266",
   "metadata": {},
   "outputs": [
    {
     "data": {
      "text/html": [
       "<div>\n",
       "<style scoped>\n",
       "    .dataframe tbody tr th:only-of-type {\n",
       "        vertical-align: middle;\n",
       "    }\n",
       "\n",
       "    .dataframe tbody tr th {\n",
       "        vertical-align: top;\n",
       "    }\n",
       "\n",
       "    .dataframe thead th {\n",
       "        text-align: right;\n",
       "    }\n",
       "</style>\n",
       "<table border=\"1\" class=\"dataframe\">\n",
       "  <thead>\n",
       "    <tr style=\"text-align: right;\">\n",
       "      <th></th>\n",
       "      <th>Name</th>\n",
       "      <th>Gender</th>\n",
       "      <th>Age</th>\n",
       "      <th>Location</th>\n",
       "      <th>Religion</th>\n",
       "    </tr>\n",
       "  </thead>\n",
       "  <tbody>\n",
       "    <tr>\n",
       "      <th>3</th>\n",
       "      <td>Victor Ojo</td>\n",
       "      <td>M</td>\n",
       "      <td>28</td>\n",
       "      <td>Kano</td>\n",
       "      <td>Christain</td>\n",
       "    </tr>\n",
       "    <tr>\n",
       "      <th>4</th>\n",
       "      <td>Tope Adejare</td>\n",
       "      <td>M</td>\n",
       "      <td>26</td>\n",
       "      <td>Jos</td>\n",
       "      <td>Christain</td>\n",
       "    </tr>\n",
       "  </tbody>\n",
       "</table>\n",
       "</div>"
      ],
      "text/plain": [
       "           Name Gender  Age Location    Religion\n",
       "3    Victor Ojo      M   28     Kano  Christain \n",
       "4  Tope Adejare      M   26      Jos   Christain"
      ]
     },
     "execution_count": 16,
     "metadata": {},
     "output_type": "execute_result"
    }
   ],
   "source": [
    "B.tail(2)"
   ]
  },
  {
   "cell_type": "code",
   "execution_count": 17,
   "id": "07f602b5-e31c-4b37-b475-50af61bd1e8b",
   "metadata": {},
   "outputs": [
    {
     "data": {
      "text/html": [
       "<div>\n",
       "<style scoped>\n",
       "    .dataframe tbody tr th:only-of-type {\n",
       "        vertical-align: middle;\n",
       "    }\n",
       "\n",
       "    .dataframe tbody tr th {\n",
       "        vertical-align: top;\n",
       "    }\n",
       "\n",
       "    .dataframe thead th {\n",
       "        text-align: right;\n",
       "    }\n",
       "</style>\n",
       "<table border=\"1\" class=\"dataframe\">\n",
       "  <thead>\n",
       "    <tr style=\"text-align: right;\">\n",
       "      <th></th>\n",
       "      <th>Name</th>\n",
       "      <th>Gender</th>\n",
       "      <th>Age</th>\n",
       "      <th>Location</th>\n",
       "      <th>Religion</th>\n",
       "    </tr>\n",
       "  </thead>\n",
       "  <tbody>\n",
       "    <tr>\n",
       "      <th>1</th>\n",
       "      <td>Abiodun Isaiah</td>\n",
       "      <td>M</td>\n",
       "      <td>32</td>\n",
       "      <td>Ibadan</td>\n",
       "      <td>Musilim</td>\n",
       "    </tr>\n",
       "  </tbody>\n",
       "</table>\n",
       "</div>"
      ],
      "text/plain": [
       "             Name Gender  Age Location Religion\n",
       "1  Abiodun Isaiah      M   32   Ibadan  Musilim"
      ]
     },
     "execution_count": 17,
     "metadata": {},
     "output_type": "execute_result"
    }
   ],
   "source": [
    "B.sample()"
   ]
  },
  {
   "cell_type": "code",
   "execution_count": 18,
   "id": "2dbb0f28-637e-4a6f-9dfe-ae641bbc826a",
   "metadata": {},
   "outputs": [
    {
     "data": {
      "text/plain": [
       "Name        5\n",
       "Gender      5\n",
       "Age         5\n",
       "Location    5\n",
       "Religion    5\n",
       "dtype: int64"
      ]
     },
     "execution_count": 18,
     "metadata": {},
     "output_type": "execute_result"
    }
   ],
   "source": [
    "B.count()"
   ]
  },
  {
   "cell_type": "code",
   "execution_count": 19,
   "id": "79812c00-32cd-44cd-a7ac-ef6dd02a22f8",
   "metadata": {},
   "outputs": [
    {
     "data": {
      "text/plain": [
       "5"
      ]
     },
     "execution_count": 19,
     "metadata": {},
     "output_type": "execute_result"
    }
   ],
   "source": [
    "len(B)"
   ]
  },
  {
   "cell_type": "code",
   "execution_count": 20,
   "id": "e7246bf6-61f7-4fa4-baa4-d143d1290d5f",
   "metadata": {},
   "outputs": [
    {
     "data": {
      "text/plain": [
       "Index(['Name', 'Gender', 'Age', 'Location', 'Religion'], dtype='object')"
      ]
     },
     "execution_count": 20,
     "metadata": {},
     "output_type": "execute_result"
    }
   ],
   "source": [
    "B.columns"
   ]
  },
  {
   "cell_type": "code",
   "execution_count": 21,
   "id": "c33b85f6-9566-4ac6-8920-abc043fb2413",
   "metadata": {},
   "outputs": [
    {
     "data": {
      "text/plain": [
       "0            Kola Kola\n",
       "1       Abiodun Isaiah\n",
       "2    Iretiogo Toluwani\n",
       "3           Victor Ojo\n",
       "4         Tope Adejare\n",
       "Name: Name, dtype: object"
      ]
     },
     "execution_count": 21,
     "metadata": {},
     "output_type": "execute_result"
    }
   ],
   "source": [
    "B.Name"
   ]
  },
  {
   "cell_type": "code",
   "execution_count": 22,
   "id": "5174c9b0-9e5e-40e2-ab13-a3380fe10528",
   "metadata": {},
   "outputs": [
    {
     "data": {
      "text/plain": [
       "0            Kola Kola\n",
       "1       Abiodun Isaiah\n",
       "2    Iretiogo Toluwani\n",
       "3           Victor Ojo\n",
       "4         Tope Adejare\n",
       "Name: Name, dtype: object"
      ]
     },
     "execution_count": 22,
     "metadata": {},
     "output_type": "execute_result"
    }
   ],
   "source": [
    "B[\"Name\"]"
   ]
  },
  {
   "cell_type": "code",
   "execution_count": 23,
   "id": "f4915eab-1c5a-4235-bb8a-00da3bb56b8d",
   "metadata": {},
   "outputs": [
    {
     "data": {
      "text/plain": [
       "(5, 5)"
      ]
     },
     "execution_count": 23,
     "metadata": {},
     "output_type": "execute_result"
    }
   ],
   "source": [
    "B.shape"
   ]
  },
  {
   "cell_type": "code",
   "execution_count": 24,
   "id": "a1ec7784-441e-454b-bc34-2fdff0f83f1f",
   "metadata": {},
   "outputs": [
    {
     "name": "stdout",
     "output_type": "stream",
     "text": [
      "<class 'pandas.core.frame.DataFrame'>\n",
      "RangeIndex: 5 entries, 0 to 4\n",
      "Data columns (total 5 columns):\n",
      " #   Column    Non-Null Count  Dtype \n",
      "---  ------    --------------  ----- \n",
      " 0   Name      5 non-null      object\n",
      " 1   Gender    5 non-null      object\n",
      " 2   Age       5 non-null      int64 \n",
      " 3   Location  5 non-null      object\n",
      " 4   Religion  5 non-null      object\n",
      "dtypes: int64(1), object(4)\n",
      "memory usage: 328.0+ bytes\n"
     ]
    }
   ],
   "source": [
    "B.info()"
   ]
  },
  {
   "cell_type": "code",
   "execution_count": 25,
   "id": "584ca9f0-c666-4fc4-bef6-f88141d821f1",
   "metadata": {},
   "outputs": [
    {
     "data": {
      "text/html": [
       "<div>\n",
       "<style scoped>\n",
       "    .dataframe tbody tr th:only-of-type {\n",
       "        vertical-align: middle;\n",
       "    }\n",
       "\n",
       "    .dataframe tbody tr th {\n",
       "        vertical-align: top;\n",
       "    }\n",
       "\n",
       "    .dataframe thead th {\n",
       "        text-align: right;\n",
       "    }\n",
       "</style>\n",
       "<table border=\"1\" class=\"dataframe\">\n",
       "  <thead>\n",
       "    <tr style=\"text-align: right;\">\n",
       "      <th></th>\n",
       "      <th>Age</th>\n",
       "    </tr>\n",
       "  </thead>\n",
       "  <tbody>\n",
       "    <tr>\n",
       "      <th>count</th>\n",
       "      <td>5.000000</td>\n",
       "    </tr>\n",
       "    <tr>\n",
       "      <th>mean</th>\n",
       "      <td>33.200000</td>\n",
       "    </tr>\n",
       "    <tr>\n",
       "      <th>std</th>\n",
       "      <td>7.463243</td>\n",
       "    </tr>\n",
       "    <tr>\n",
       "      <th>min</th>\n",
       "      <td>26.000000</td>\n",
       "    </tr>\n",
       "    <tr>\n",
       "      <th>25%</th>\n",
       "      <td>28.000000</td>\n",
       "    </tr>\n",
       "    <tr>\n",
       "      <th>50%</th>\n",
       "      <td>32.000000</td>\n",
       "    </tr>\n",
       "    <tr>\n",
       "      <th>75%</th>\n",
       "      <td>35.000000</td>\n",
       "    </tr>\n",
       "    <tr>\n",
       "      <th>max</th>\n",
       "      <td>45.000000</td>\n",
       "    </tr>\n",
       "  </tbody>\n",
       "</table>\n",
       "</div>"
      ],
      "text/plain": [
       "             Age\n",
       "count   5.000000\n",
       "mean   33.200000\n",
       "std     7.463243\n",
       "min    26.000000\n",
       "25%    28.000000\n",
       "50%    32.000000\n",
       "75%    35.000000\n",
       "max    45.000000"
      ]
     },
     "execution_count": 25,
     "metadata": {},
     "output_type": "execute_result"
    }
   ],
   "source": [
    "B.describe()"
   ]
  },
  {
   "cell_type": "code",
   "execution_count": 26,
   "id": "e68ce38a-fc25-440a-83fa-84a73c823648",
   "metadata": {},
   "outputs": [
    {
     "data": {
      "text/html": [
       "<div>\n",
       "<style scoped>\n",
       "    .dataframe tbody tr th:only-of-type {\n",
       "        vertical-align: middle;\n",
       "    }\n",
       "\n",
       "    .dataframe tbody tr th {\n",
       "        vertical-align: top;\n",
       "    }\n",
       "\n",
       "    .dataframe thead th {\n",
       "        text-align: right;\n",
       "    }\n",
       "</style>\n",
       "<table border=\"1\" class=\"dataframe\">\n",
       "  <thead>\n",
       "    <tr style=\"text-align: right;\">\n",
       "      <th></th>\n",
       "      <th>count</th>\n",
       "      <th>mean</th>\n",
       "      <th>std</th>\n",
       "      <th>min</th>\n",
       "      <th>25%</th>\n",
       "      <th>50%</th>\n",
       "      <th>75%</th>\n",
       "      <th>max</th>\n",
       "    </tr>\n",
       "  </thead>\n",
       "  <tbody>\n",
       "    <tr>\n",
       "      <th>Age</th>\n",
       "      <td>5.0</td>\n",
       "      <td>33.2</td>\n",
       "      <td>7.463243</td>\n",
       "      <td>26.0</td>\n",
       "      <td>28.0</td>\n",
       "      <td>32.0</td>\n",
       "      <td>35.0</td>\n",
       "      <td>45.0</td>\n",
       "    </tr>\n",
       "  </tbody>\n",
       "</table>\n",
       "</div>"
      ],
      "text/plain": [
       "     count  mean       std   min   25%   50%   75%   max\n",
       "Age    5.0  33.2  7.463243  26.0  28.0  32.0  35.0  45.0"
      ]
     },
     "execution_count": 26,
     "metadata": {},
     "output_type": "execute_result"
    }
   ],
   "source": [
    "B.describe().T"
   ]
  },
  {
   "cell_type": "code",
   "execution_count": 27,
   "id": "fc3284a9-4513-49f3-a469-3f07613ddd77",
   "metadata": {},
   "outputs": [],
   "source": [
    "B[\"Join\"] = [1, 2, 3, 4, 5]"
   ]
  },
  {
   "cell_type": "code",
   "execution_count": 28,
   "id": "1ebed2ae-b556-4ed7-903a-d67ecccca7d7",
   "metadata": {},
   "outputs": [
    {
     "data": {
      "text/html": [
       "<div>\n",
       "<style scoped>\n",
       "    .dataframe tbody tr th:only-of-type {\n",
       "        vertical-align: middle;\n",
       "    }\n",
       "\n",
       "    .dataframe tbody tr th {\n",
       "        vertical-align: top;\n",
       "    }\n",
       "\n",
       "    .dataframe thead th {\n",
       "        text-align: right;\n",
       "    }\n",
       "</style>\n",
       "<table border=\"1\" class=\"dataframe\">\n",
       "  <thead>\n",
       "    <tr style=\"text-align: right;\">\n",
       "      <th></th>\n",
       "      <th>Name</th>\n",
       "      <th>Gender</th>\n",
       "      <th>Age</th>\n",
       "      <th>Location</th>\n",
       "      <th>Religion</th>\n",
       "      <th>Join</th>\n",
       "    </tr>\n",
       "  </thead>\n",
       "  <tbody>\n",
       "    <tr>\n",
       "      <th>0</th>\n",
       "      <td>Kola Kola</td>\n",
       "      <td>M</td>\n",
       "      <td>35</td>\n",
       "      <td>Abuja</td>\n",
       "      <td>Christian</td>\n",
       "      <td>1</td>\n",
       "    </tr>\n",
       "    <tr>\n",
       "      <th>1</th>\n",
       "      <td>Abiodun Isaiah</td>\n",
       "      <td>M</td>\n",
       "      <td>32</td>\n",
       "      <td>Ibadan</td>\n",
       "      <td>Musilim</td>\n",
       "      <td>2</td>\n",
       "    </tr>\n",
       "    <tr>\n",
       "      <th>2</th>\n",
       "      <td>Iretiogo Toluwani</td>\n",
       "      <td>F</td>\n",
       "      <td>45</td>\n",
       "      <td>Lagos</td>\n",
       "      <td>Budduh</td>\n",
       "      <td>3</td>\n",
       "    </tr>\n",
       "    <tr>\n",
       "      <th>3</th>\n",
       "      <td>Victor Ojo</td>\n",
       "      <td>M</td>\n",
       "      <td>28</td>\n",
       "      <td>Kano</td>\n",
       "      <td>Christain</td>\n",
       "      <td>4</td>\n",
       "    </tr>\n",
       "    <tr>\n",
       "      <th>4</th>\n",
       "      <td>Tope Adejare</td>\n",
       "      <td>M</td>\n",
       "      <td>26</td>\n",
       "      <td>Jos</td>\n",
       "      <td>Christain</td>\n",
       "      <td>5</td>\n",
       "    </tr>\n",
       "  </tbody>\n",
       "</table>\n",
       "</div>"
      ],
      "text/plain": [
       "                Name Gender  Age Location    Religion  Join\n",
       "0          Kola Kola      M   35    Abuja   Christian     1\n",
       "1     Abiodun Isaiah      M   32   Ibadan     Musilim     2\n",
       "2  Iretiogo Toluwani      F   45    Lagos      Budduh     3\n",
       "3         Victor Ojo      M   28     Kano  Christain      4\n",
       "4       Tope Adejare      M   26      Jos   Christain     5"
      ]
     },
     "execution_count": 28,
     "metadata": {},
     "output_type": "execute_result"
    }
   ],
   "source": [
    "B"
   ]
  },
  {
   "cell_type": "code",
   "execution_count": 29,
   "id": "772312bc-0a7d-4773-bff3-d4094e8bb160",
   "metadata": {},
   "outputs": [],
   "source": [
    "B[\"Gender\"] = B[\"Gender\"].replace(\"F\", \"Female\").replace(\"M\", \"Male\")"
   ]
  },
  {
   "cell_type": "code",
   "execution_count": 30,
   "id": "8b278a1f-e30b-48bf-b3d5-fd9d0feae0f5",
   "metadata": {},
   "outputs": [
    {
     "data": {
      "text/html": [
       "<div>\n",
       "<style scoped>\n",
       "    .dataframe tbody tr th:only-of-type {\n",
       "        vertical-align: middle;\n",
       "    }\n",
       "\n",
       "    .dataframe tbody tr th {\n",
       "        vertical-align: top;\n",
       "    }\n",
       "\n",
       "    .dataframe thead th {\n",
       "        text-align: right;\n",
       "    }\n",
       "</style>\n",
       "<table border=\"1\" class=\"dataframe\">\n",
       "  <thead>\n",
       "    <tr style=\"text-align: right;\">\n",
       "      <th></th>\n",
       "      <th>Name</th>\n",
       "      <th>Gender</th>\n",
       "      <th>Age</th>\n",
       "      <th>Location</th>\n",
       "      <th>Religion</th>\n",
       "      <th>Join</th>\n",
       "    </tr>\n",
       "  </thead>\n",
       "  <tbody>\n",
       "    <tr>\n",
       "      <th>0</th>\n",
       "      <td>Kola Kola</td>\n",
       "      <td>Male</td>\n",
       "      <td>35</td>\n",
       "      <td>Abuja</td>\n",
       "      <td>Christian</td>\n",
       "      <td>1</td>\n",
       "    </tr>\n",
       "    <tr>\n",
       "      <th>1</th>\n",
       "      <td>Abiodun Isaiah</td>\n",
       "      <td>Male</td>\n",
       "      <td>32</td>\n",
       "      <td>Ibadan</td>\n",
       "      <td>Musilim</td>\n",
       "      <td>2</td>\n",
       "    </tr>\n",
       "    <tr>\n",
       "      <th>2</th>\n",
       "      <td>Iretiogo Toluwani</td>\n",
       "      <td>Female</td>\n",
       "      <td>45</td>\n",
       "      <td>Lagos</td>\n",
       "      <td>Budduh</td>\n",
       "      <td>3</td>\n",
       "    </tr>\n",
       "    <tr>\n",
       "      <th>3</th>\n",
       "      <td>Victor Ojo</td>\n",
       "      <td>Male</td>\n",
       "      <td>28</td>\n",
       "      <td>Kano</td>\n",
       "      <td>Christain</td>\n",
       "      <td>4</td>\n",
       "    </tr>\n",
       "    <tr>\n",
       "      <th>4</th>\n",
       "      <td>Tope Adejare</td>\n",
       "      <td>Male</td>\n",
       "      <td>26</td>\n",
       "      <td>Jos</td>\n",
       "      <td>Christain</td>\n",
       "      <td>5</td>\n",
       "    </tr>\n",
       "  </tbody>\n",
       "</table>\n",
       "</div>"
      ],
      "text/plain": [
       "                Name  Gender  Age Location    Religion  Join\n",
       "0          Kola Kola    Male   35    Abuja   Christian     1\n",
       "1     Abiodun Isaiah    Male   32   Ibadan     Musilim     2\n",
       "2  Iretiogo Toluwani  Female   45    Lagos      Budduh     3\n",
       "3         Victor Ojo    Male   28     Kano  Christain      4\n",
       "4       Tope Adejare    Male   26      Jos   Christain     5"
      ]
     },
     "execution_count": 30,
     "metadata": {},
     "output_type": "execute_result"
    }
   ],
   "source": [
    "B"
   ]
  },
  {
   "cell_type": "code",
   "execution_count": 31,
   "id": "f446bd1f-cb40-4e7d-b10d-372b05aaa299",
   "metadata": {},
   "outputs": [
    {
     "data": {
      "text/html": [
       "<div>\n",
       "<style scoped>\n",
       "    .dataframe tbody tr th:only-of-type {\n",
       "        vertical-align: middle;\n",
       "    }\n",
       "\n",
       "    .dataframe tbody tr th {\n",
       "        vertical-align: top;\n",
       "    }\n",
       "\n",
       "    .dataframe thead th {\n",
       "        text-align: right;\n",
       "    }\n",
       "</style>\n",
       "<table border=\"1\" class=\"dataframe\">\n",
       "  <thead>\n",
       "    <tr style=\"text-align: right;\">\n",
       "      <th></th>\n",
       "      <th>Full Name</th>\n",
       "      <th>Gender</th>\n",
       "      <th>Age</th>\n",
       "      <th>Location</th>\n",
       "      <th>Religion</th>\n",
       "      <th>Join</th>\n",
       "    </tr>\n",
       "  </thead>\n",
       "  <tbody>\n",
       "    <tr>\n",
       "      <th>0</th>\n",
       "      <td>Kola Kola</td>\n",
       "      <td>Male</td>\n",
       "      <td>35</td>\n",
       "      <td>Abuja</td>\n",
       "      <td>Christian</td>\n",
       "      <td>1</td>\n",
       "    </tr>\n",
       "    <tr>\n",
       "      <th>1</th>\n",
       "      <td>Abiodun Isaiah</td>\n",
       "      <td>Male</td>\n",
       "      <td>32</td>\n",
       "      <td>Ibadan</td>\n",
       "      <td>Musilim</td>\n",
       "      <td>2</td>\n",
       "    </tr>\n",
       "    <tr>\n",
       "      <th>2</th>\n",
       "      <td>Iretiogo Toluwani</td>\n",
       "      <td>Female</td>\n",
       "      <td>45</td>\n",
       "      <td>Lagos</td>\n",
       "      <td>Budduh</td>\n",
       "      <td>3</td>\n",
       "    </tr>\n",
       "    <tr>\n",
       "      <th>3</th>\n",
       "      <td>Victor Ojo</td>\n",
       "      <td>Male</td>\n",
       "      <td>28</td>\n",
       "      <td>Kano</td>\n",
       "      <td>Christain</td>\n",
       "      <td>4</td>\n",
       "    </tr>\n",
       "    <tr>\n",
       "      <th>4</th>\n",
       "      <td>Tope Adejare</td>\n",
       "      <td>Male</td>\n",
       "      <td>26</td>\n",
       "      <td>Jos</td>\n",
       "      <td>Christain</td>\n",
       "      <td>5</td>\n",
       "    </tr>\n",
       "  </tbody>\n",
       "</table>\n",
       "</div>"
      ],
      "text/plain": [
       "           Full Name  Gender  Age Location    Religion  Join\n",
       "0          Kola Kola    Male   35    Abuja   Christian     1\n",
       "1     Abiodun Isaiah    Male   32   Ibadan     Musilim     2\n",
       "2  Iretiogo Toluwani  Female   45    Lagos      Budduh     3\n",
       "3         Victor Ojo    Male   28     Kano  Christain      4\n",
       "4       Tope Adejare    Male   26      Jos   Christain     5"
      ]
     },
     "execution_count": 31,
     "metadata": {},
     "output_type": "execute_result"
    }
   ],
   "source": [
    "B.rename(columns = {\"Name\": \"Full Name\"})"
   ]
  },
  {
   "cell_type": "code",
   "execution_count": 32,
   "id": "b6d19708-1041-48c8-82d1-0dcad31bf862",
   "metadata": {},
   "outputs": [
    {
     "data": {
      "text/html": [
       "<div>\n",
       "<style scoped>\n",
       "    .dataframe tbody tr th:only-of-type {\n",
       "        vertical-align: middle;\n",
       "    }\n",
       "\n",
       "    .dataframe tbody tr th {\n",
       "        vertical-align: top;\n",
       "    }\n",
       "\n",
       "    .dataframe thead th {\n",
       "        text-align: right;\n",
       "    }\n",
       "</style>\n",
       "<table border=\"1\" class=\"dataframe\">\n",
       "  <thead>\n",
       "    <tr style=\"text-align: right;\">\n",
       "      <th></th>\n",
       "      <th>Name</th>\n",
       "      <th>Gender</th>\n",
       "      <th>Age</th>\n",
       "      <th>Location</th>\n",
       "      <th>Religion</th>\n",
       "      <th>Join</th>\n",
       "    </tr>\n",
       "  </thead>\n",
       "  <tbody>\n",
       "    <tr>\n",
       "      <th>0</th>\n",
       "      <td>Kola Kola</td>\n",
       "      <td>Male</td>\n",
       "      <td>35</td>\n",
       "      <td>Abuja</td>\n",
       "      <td>Christian</td>\n",
       "      <td>1</td>\n",
       "    </tr>\n",
       "    <tr>\n",
       "      <th>1</th>\n",
       "      <td>Abiodun Isaiah</td>\n",
       "      <td>Male</td>\n",
       "      <td>32</td>\n",
       "      <td>Ibadan</td>\n",
       "      <td>Musilim</td>\n",
       "      <td>2</td>\n",
       "    </tr>\n",
       "    <tr>\n",
       "      <th>2</th>\n",
       "      <td>Iretiogo Toluwani</td>\n",
       "      <td>Female</td>\n",
       "      <td>45</td>\n",
       "      <td>Lagos</td>\n",
       "      <td>Budduh</td>\n",
       "      <td>3</td>\n",
       "    </tr>\n",
       "    <tr>\n",
       "      <th>3</th>\n",
       "      <td>Victor Ojo</td>\n",
       "      <td>Male</td>\n",
       "      <td>28</td>\n",
       "      <td>Kano</td>\n",
       "      <td>Christain</td>\n",
       "      <td>4</td>\n",
       "    </tr>\n",
       "    <tr>\n",
       "      <th>4</th>\n",
       "      <td>Tope Adejare</td>\n",
       "      <td>Male</td>\n",
       "      <td>26</td>\n",
       "      <td>Jos</td>\n",
       "      <td>Christain</td>\n",
       "      <td>5</td>\n",
       "    </tr>\n",
       "  </tbody>\n",
       "</table>\n",
       "</div>"
      ],
      "text/plain": [
       "                Name  Gender  Age Location    Religion  Join\n",
       "0          Kola Kola    Male   35    Abuja   Christian     1\n",
       "1     Abiodun Isaiah    Male   32   Ibadan     Musilim     2\n",
       "2  Iretiogo Toluwani  Female   45    Lagos      Budduh     3\n",
       "3         Victor Ojo    Male   28     Kano  Christain      4\n",
       "4       Tope Adejare    Male   26      Jos   Christain     5"
      ]
     },
     "execution_count": 32,
     "metadata": {},
     "output_type": "execute_result"
    }
   ],
   "source": [
    "B"
   ]
  },
  {
   "cell_type": "code",
   "execution_count": 33,
   "id": "4a747b89-f54a-4608-b93c-ec83ce191440",
   "metadata": {},
   "outputs": [],
   "source": [
    "B.rename(columns = {\"Name\": \"Full Name\"}, inplace = True)"
   ]
  },
  {
   "cell_type": "code",
   "execution_count": 34,
   "id": "b737ad0e-e63b-40cf-8212-2c4fc51b9b47",
   "metadata": {},
   "outputs": [
    {
     "data": {
      "text/html": [
       "<div>\n",
       "<style scoped>\n",
       "    .dataframe tbody tr th:only-of-type {\n",
       "        vertical-align: middle;\n",
       "    }\n",
       "\n",
       "    .dataframe tbody tr th {\n",
       "        vertical-align: top;\n",
       "    }\n",
       "\n",
       "    .dataframe thead th {\n",
       "        text-align: right;\n",
       "    }\n",
       "</style>\n",
       "<table border=\"1\" class=\"dataframe\">\n",
       "  <thead>\n",
       "    <tr style=\"text-align: right;\">\n",
       "      <th></th>\n",
       "      <th>Full Name</th>\n",
       "      <th>Gender</th>\n",
       "      <th>Age</th>\n",
       "      <th>Location</th>\n",
       "      <th>Religion</th>\n",
       "      <th>Join</th>\n",
       "    </tr>\n",
       "  </thead>\n",
       "  <tbody>\n",
       "    <tr>\n",
       "      <th>0</th>\n",
       "      <td>Kola Kola</td>\n",
       "      <td>Male</td>\n",
       "      <td>35</td>\n",
       "      <td>Abuja</td>\n",
       "      <td>Christian</td>\n",
       "      <td>1</td>\n",
       "    </tr>\n",
       "    <tr>\n",
       "      <th>1</th>\n",
       "      <td>Abiodun Isaiah</td>\n",
       "      <td>Male</td>\n",
       "      <td>32</td>\n",
       "      <td>Ibadan</td>\n",
       "      <td>Musilim</td>\n",
       "      <td>2</td>\n",
       "    </tr>\n",
       "    <tr>\n",
       "      <th>2</th>\n",
       "      <td>Iretiogo Toluwani</td>\n",
       "      <td>Female</td>\n",
       "      <td>45</td>\n",
       "      <td>Lagos</td>\n",
       "      <td>Budduh</td>\n",
       "      <td>3</td>\n",
       "    </tr>\n",
       "    <tr>\n",
       "      <th>3</th>\n",
       "      <td>Victor Ojo</td>\n",
       "      <td>Male</td>\n",
       "      <td>28</td>\n",
       "      <td>Kano</td>\n",
       "      <td>Christain</td>\n",
       "      <td>4</td>\n",
       "    </tr>\n",
       "    <tr>\n",
       "      <th>4</th>\n",
       "      <td>Tope Adejare</td>\n",
       "      <td>Male</td>\n",
       "      <td>26</td>\n",
       "      <td>Jos</td>\n",
       "      <td>Christain</td>\n",
       "      <td>5</td>\n",
       "    </tr>\n",
       "  </tbody>\n",
       "</table>\n",
       "</div>"
      ],
      "text/plain": [
       "           Full Name  Gender  Age Location    Religion  Join\n",
       "0          Kola Kola    Male   35    Abuja   Christian     1\n",
       "1     Abiodun Isaiah    Male   32   Ibadan     Musilim     2\n",
       "2  Iretiogo Toluwani  Female   45    Lagos      Budduh     3\n",
       "3         Victor Ojo    Male   28     Kano  Christain      4\n",
       "4       Tope Adejare    Male   26      Jos   Christain     5"
      ]
     },
     "execution_count": 34,
     "metadata": {},
     "output_type": "execute_result"
    }
   ],
   "source": [
    "B"
   ]
  },
  {
   "cell_type": "markdown",
   "id": "4016abe1-9073-4006-8711-d5c667f92a19",
   "metadata": {},
   "source": [
    "## Indexing - selection rows ad columns from DataFrame or series using iloc[] and loc[].\n",
    "    Iloc[] for postioned indexing selects data based on integer- based positions. Exclusive of the end index.\n",
    "    \n",
    "    loc[](Label Location) for label based indexing allows selecting rows and columns based on labels indusive of the end index"
   ]
  },
  {
   "cell_type": "code",
   "execution_count": 35,
   "id": "5bee7581-4aea-4e16-b98c-4556b172734d",
   "metadata": {},
   "outputs": [
    {
     "data": {
      "text/plain": [
       "Full Name    Kola Kola\n",
       "Gender            Male\n",
       "Age                 35\n",
       "Location         Abuja\n",
       "Religion     Christian\n",
       "Join                 1\n",
       "Name: 0, dtype: object"
      ]
     },
     "execution_count": 35,
     "metadata": {},
     "output_type": "execute_result"
    }
   ],
   "source": [
    "B.iloc[0,]"
   ]
  },
  {
   "cell_type": "code",
   "execution_count": 36,
   "id": "0073d230-77bf-4e68-a5ec-a52a52432a0b",
   "metadata": {},
   "outputs": [
    {
     "data": {
      "text/plain": [
       "'Christian'"
      ]
     },
     "execution_count": 36,
     "metadata": {},
     "output_type": "execute_result"
    }
   ],
   "source": [
    "B.iloc[0,4]"
   ]
  },
  {
   "cell_type": "code",
   "execution_count": 37,
   "id": "d91a0cdb-af56-433e-b2e4-2bbbaa367d1a",
   "metadata": {},
   "outputs": [
    {
     "data": {
      "text/html": [
       "<div>\n",
       "<style scoped>\n",
       "    .dataframe tbody tr th:only-of-type {\n",
       "        vertical-align: middle;\n",
       "    }\n",
       "\n",
       "    .dataframe tbody tr th {\n",
       "        vertical-align: top;\n",
       "    }\n",
       "\n",
       "    .dataframe thead th {\n",
       "        text-align: right;\n",
       "    }\n",
       "</style>\n",
       "<table border=\"1\" class=\"dataframe\">\n",
       "  <thead>\n",
       "    <tr style=\"text-align: right;\">\n",
       "      <th></th>\n",
       "      <th>Full Name</th>\n",
       "      <th>Gender</th>\n",
       "      <th>Age</th>\n",
       "      <th>Location</th>\n",
       "      <th>Religion</th>\n",
       "      <th>Join</th>\n",
       "    </tr>\n",
       "  </thead>\n",
       "  <tbody>\n",
       "    <tr>\n",
       "      <th>0</th>\n",
       "      <td>Kola Kola</td>\n",
       "      <td>Male</td>\n",
       "      <td>35</td>\n",
       "      <td>Abuja</td>\n",
       "      <td>Christian</td>\n",
       "      <td>1</td>\n",
       "    </tr>\n",
       "    <tr>\n",
       "      <th>1</th>\n",
       "      <td>Abiodun Isaiah</td>\n",
       "      <td>Male</td>\n",
       "      <td>32</td>\n",
       "      <td>Ibadan</td>\n",
       "      <td>Musilim</td>\n",
       "      <td>2</td>\n",
       "    </tr>\n",
       "    <tr>\n",
       "      <th>2</th>\n",
       "      <td>Iretiogo Toluwani</td>\n",
       "      <td>Female</td>\n",
       "      <td>45</td>\n",
       "      <td>Lagos</td>\n",
       "      <td>Budduh</td>\n",
       "      <td>3</td>\n",
       "    </tr>\n",
       "  </tbody>\n",
       "</table>\n",
       "</div>"
      ],
      "text/plain": [
       "           Full Name  Gender  Age Location   Religion  Join\n",
       "0          Kola Kola    Male   35    Abuja  Christian     1\n",
       "1     Abiodun Isaiah    Male   32   Ibadan    Musilim     2\n",
       "2  Iretiogo Toluwani  Female   45    Lagos     Budduh     3"
      ]
     },
     "execution_count": 37,
     "metadata": {},
     "output_type": "execute_result"
    }
   ],
   "source": [
    "B.iloc[0:3]"
   ]
  },
  {
   "cell_type": "code",
   "execution_count": 38,
   "id": "9288d7a4-c1c5-477d-992e-a12ebeec3e47",
   "metadata": {},
   "outputs": [
    {
     "data": {
      "text/plain": [
       "0    Christian\n",
       "1      Musilim\n",
       "2       Budduh\n",
       "Name: Religion, dtype: object"
      ]
     },
     "execution_count": 38,
     "metadata": {},
     "output_type": "execute_result"
    }
   ],
   "source": [
    "B.iloc[0:3, 4]"
   ]
  },
  {
   "cell_type": "code",
   "execution_count": 39,
   "id": "aea230cc-2946-4c02-8f0e-7632c0cdb696",
   "metadata": {},
   "outputs": [
    {
     "data": {
      "text/html": [
       "<div>\n",
       "<style scoped>\n",
       "    .dataframe tbody tr th:only-of-type {\n",
       "        vertical-align: middle;\n",
       "    }\n",
       "\n",
       "    .dataframe tbody tr th {\n",
       "        vertical-align: top;\n",
       "    }\n",
       "\n",
       "    .dataframe thead th {\n",
       "        text-align: right;\n",
       "    }\n",
       "</style>\n",
       "<table border=\"1\" class=\"dataframe\">\n",
       "  <thead>\n",
       "    <tr style=\"text-align: right;\">\n",
       "      <th></th>\n",
       "      <th>Full Name</th>\n",
       "      <th>Gender</th>\n",
       "      <th>Age</th>\n",
       "      <th>Location</th>\n",
       "    </tr>\n",
       "  </thead>\n",
       "  <tbody>\n",
       "    <tr>\n",
       "      <th>0</th>\n",
       "      <td>Kola Kola</td>\n",
       "      <td>Male</td>\n",
       "      <td>35</td>\n",
       "      <td>Abuja</td>\n",
       "    </tr>\n",
       "    <tr>\n",
       "      <th>1</th>\n",
       "      <td>Abiodun Isaiah</td>\n",
       "      <td>Male</td>\n",
       "      <td>32</td>\n",
       "      <td>Ibadan</td>\n",
       "    </tr>\n",
       "    <tr>\n",
       "      <th>2</th>\n",
       "      <td>Iretiogo Toluwani</td>\n",
       "      <td>Female</td>\n",
       "      <td>45</td>\n",
       "      <td>Lagos</td>\n",
       "    </tr>\n",
       "  </tbody>\n",
       "</table>\n",
       "</div>"
      ],
      "text/plain": [
       "           Full Name  Gender  Age Location\n",
       "0          Kola Kola    Male   35    Abuja\n",
       "1     Abiodun Isaiah    Male   32   Ibadan\n",
       "2  Iretiogo Toluwani  Female   45    Lagos"
      ]
     },
     "execution_count": 39,
     "metadata": {},
     "output_type": "execute_result"
    }
   ],
   "source": [
    "B.iloc[0:3, :4]"
   ]
  },
  {
   "cell_type": "code",
   "execution_count": 43,
   "id": "07a4a93e-7303-45c6-b1ec-7e7f0c990b6c",
   "metadata": {},
   "outputs": [
    {
     "data": {
      "text/html": [
       "<div>\n",
       "<style scoped>\n",
       "    .dataframe tbody tr th:only-of-type {\n",
       "        vertical-align: middle;\n",
       "    }\n",
       "\n",
       "    .dataframe tbody tr th {\n",
       "        vertical-align: top;\n",
       "    }\n",
       "\n",
       "    .dataframe thead th {\n",
       "        text-align: right;\n",
       "    }\n",
       "</style>\n",
       "<table border=\"1\" class=\"dataframe\">\n",
       "  <thead>\n",
       "    <tr style=\"text-align: right;\">\n",
       "      <th></th>\n",
       "      <th>Gender</th>\n",
       "      <th>Age</th>\n",
       "    </tr>\n",
       "  </thead>\n",
       "  <tbody>\n",
       "    <tr>\n",
       "      <th>0</th>\n",
       "      <td>Male</td>\n",
       "      <td>35</td>\n",
       "    </tr>\n",
       "    <tr>\n",
       "      <th>1</th>\n",
       "      <td>Male</td>\n",
       "      <td>32</td>\n",
       "    </tr>\n",
       "    <tr>\n",
       "      <th>2</th>\n",
       "      <td>Female</td>\n",
       "      <td>45</td>\n",
       "    </tr>\n",
       "  </tbody>\n",
       "</table>\n",
       "</div>"
      ],
      "text/plain": [
       "   Gender  Age\n",
       "0    Male   35\n",
       "1    Male   32\n",
       "2  Female   45"
      ]
     },
     "execution_count": 43,
     "metadata": {},
     "output_type": "execute_result"
    }
   ],
   "source": [
    "B.iloc[0:3, 1:3]"
   ]
  },
  {
   "cell_type": "code",
   "execution_count": 44,
   "id": "18c4f105-69f1-46e9-b6d5-0ecbbdda71e0",
   "metadata": {},
   "outputs": [
    {
     "data": {
      "text/html": [
       "<div>\n",
       "<style scoped>\n",
       "    .dataframe tbody tr th:only-of-type {\n",
       "        vertical-align: middle;\n",
       "    }\n",
       "\n",
       "    .dataframe tbody tr th {\n",
       "        vertical-align: top;\n",
       "    }\n",
       "\n",
       "    .dataframe thead th {\n",
       "        text-align: right;\n",
       "    }\n",
       "</style>\n",
       "<table border=\"1\" class=\"dataframe\">\n",
       "  <thead>\n",
       "    <tr style=\"text-align: right;\">\n",
       "      <th></th>\n",
       "      <th>Full Name</th>\n",
       "      <th>Gender</th>\n",
       "      <th>Age</th>\n",
       "    </tr>\n",
       "  </thead>\n",
       "  <tbody>\n",
       "    <tr>\n",
       "      <th>0</th>\n",
       "      <td>Kola Kola</td>\n",
       "      <td>Male</td>\n",
       "      <td>35</td>\n",
       "    </tr>\n",
       "    <tr>\n",
       "      <th>1</th>\n",
       "      <td>Abiodun Isaiah</td>\n",
       "      <td>Male</td>\n",
       "      <td>32</td>\n",
       "    </tr>\n",
       "    <tr>\n",
       "      <th>2</th>\n",
       "      <td>Iretiogo Toluwani</td>\n",
       "      <td>Female</td>\n",
       "      <td>45</td>\n",
       "    </tr>\n",
       "  </tbody>\n",
       "</table>\n",
       "</div>"
      ],
      "text/plain": [
       "           Full Name  Gender  Age\n",
       "0          Kola Kola    Male   35\n",
       "1     Abiodun Isaiah    Male   32\n",
       "2  Iretiogo Toluwani  Female   45"
      ]
     },
     "execution_count": 44,
     "metadata": {},
     "output_type": "execute_result"
    }
   ],
   "source": [
    "B.iloc[0:3, :3]"
   ]
  },
  {
   "cell_type": "code",
   "execution_count": 45,
   "id": "38396ac9-d503-4120-a229-19b67b9733a6",
   "metadata": {},
   "outputs": [
    {
     "data": {
      "text/html": [
       "<div>\n",
       "<style scoped>\n",
       "    .dataframe tbody tr th:only-of-type {\n",
       "        vertical-align: middle;\n",
       "    }\n",
       "\n",
       "    .dataframe tbody tr th {\n",
       "        vertical-align: top;\n",
       "    }\n",
       "\n",
       "    .dataframe thead th {\n",
       "        text-align: right;\n",
       "    }\n",
       "</style>\n",
       "<table border=\"1\" class=\"dataframe\">\n",
       "  <thead>\n",
       "    <tr style=\"text-align: right;\">\n",
       "      <th></th>\n",
       "      <th>Age</th>\n",
       "      <th>Location</th>\n",
       "      <th>Religion</th>\n",
       "      <th>Join</th>\n",
       "    </tr>\n",
       "  </thead>\n",
       "  <tbody>\n",
       "    <tr>\n",
       "      <th>0</th>\n",
       "      <td>35</td>\n",
       "      <td>Abuja</td>\n",
       "      <td>Christian</td>\n",
       "      <td>1</td>\n",
       "    </tr>\n",
       "    <tr>\n",
       "      <th>1</th>\n",
       "      <td>32</td>\n",
       "      <td>Ibadan</td>\n",
       "      <td>Musilim</td>\n",
       "      <td>2</td>\n",
       "    </tr>\n",
       "    <tr>\n",
       "      <th>2</th>\n",
       "      <td>45</td>\n",
       "      <td>Lagos</td>\n",
       "      <td>Budduh</td>\n",
       "      <td>3</td>\n",
       "    </tr>\n",
       "  </tbody>\n",
       "</table>\n",
       "</div>"
      ],
      "text/plain": [
       "   Age Location   Religion  Join\n",
       "0   35    Abuja  Christian     1\n",
       "1   32   Ibadan    Musilim     2\n",
       "2   45    Lagos     Budduh     3"
      ]
     },
     "execution_count": 45,
     "metadata": {},
     "output_type": "execute_result"
    }
   ],
   "source": [
    "B.iloc[0:3, 2:]"
   ]
  },
  {
   "cell_type": "code",
   "execution_count": 46,
   "id": "4061bf47-c4fb-4f7d-b454-21554e4ca7cb",
   "metadata": {},
   "outputs": [
    {
     "data": {
      "text/html": [
       "<div>\n",
       "<style scoped>\n",
       "    .dataframe tbody tr th:only-of-type {\n",
       "        vertical-align: middle;\n",
       "    }\n",
       "\n",
       "    .dataframe tbody tr th {\n",
       "        vertical-align: top;\n",
       "    }\n",
       "\n",
       "    .dataframe thead th {\n",
       "        text-align: right;\n",
       "    }\n",
       "</style>\n",
       "<table border=\"1\" class=\"dataframe\">\n",
       "  <thead>\n",
       "    <tr style=\"text-align: right;\">\n",
       "      <th></th>\n",
       "      <th>Full Name</th>\n",
       "      <th>Gender</th>\n",
       "    </tr>\n",
       "  </thead>\n",
       "  <tbody>\n",
       "    <tr>\n",
       "      <th>0</th>\n",
       "      <td>Kola Kola</td>\n",
       "      <td>Male</td>\n",
       "    </tr>\n",
       "    <tr>\n",
       "      <th>1</th>\n",
       "      <td>Abiodun Isaiah</td>\n",
       "      <td>Male</td>\n",
       "    </tr>\n",
       "    <tr>\n",
       "      <th>2</th>\n",
       "      <td>Iretiogo Toluwani</td>\n",
       "      <td>Female</td>\n",
       "    </tr>\n",
       "    <tr>\n",
       "      <th>3</th>\n",
       "      <td>Victor Ojo</td>\n",
       "      <td>Male</td>\n",
       "    </tr>\n",
       "  </tbody>\n",
       "</table>\n",
       "</div>"
      ],
      "text/plain": [
       "           Full Name  Gender\n",
       "0          Kola Kola    Male\n",
       "1     Abiodun Isaiah    Male\n",
       "2  Iretiogo Toluwani  Female\n",
       "3         Victor Ojo    Male"
      ]
     },
     "execution_count": 46,
     "metadata": {},
     "output_type": "execute_result"
    }
   ],
   "source": [
    "B.iloc[:4, :2]"
   ]
  },
  {
   "cell_type": "code",
   "execution_count": 47,
   "id": "a6603278-01ee-4175-bfbc-853a9f873ceb",
   "metadata": {},
   "outputs": [
    {
     "name": "stderr",
     "output_type": "stream",
     "text": [
      "C:\\Users\\Opsydee\\AppData\\Local\\Temp\\ipykernel_11608\\67651189.py:1: FutureWarning: Passing a set as an indexer is deprecated and will raise in a future version. Use a list instead.\n",
      "  B.loc[1:3, {\"Gender\", \"Join\"}]\n"
     ]
    },
    {
     "data": {
      "text/html": [
       "<div>\n",
       "<style scoped>\n",
       "    .dataframe tbody tr th:only-of-type {\n",
       "        vertical-align: middle;\n",
       "    }\n",
       "\n",
       "    .dataframe tbody tr th {\n",
       "        vertical-align: top;\n",
       "    }\n",
       "\n",
       "    .dataframe thead th {\n",
       "        text-align: right;\n",
       "    }\n",
       "</style>\n",
       "<table border=\"1\" class=\"dataframe\">\n",
       "  <thead>\n",
       "    <tr style=\"text-align: right;\">\n",
       "      <th></th>\n",
       "      <th>Gender</th>\n",
       "      <th>Join</th>\n",
       "    </tr>\n",
       "  </thead>\n",
       "  <tbody>\n",
       "    <tr>\n",
       "      <th>1</th>\n",
       "      <td>Male</td>\n",
       "      <td>2</td>\n",
       "    </tr>\n",
       "    <tr>\n",
       "      <th>2</th>\n",
       "      <td>Female</td>\n",
       "      <td>3</td>\n",
       "    </tr>\n",
       "    <tr>\n",
       "      <th>3</th>\n",
       "      <td>Male</td>\n",
       "      <td>4</td>\n",
       "    </tr>\n",
       "  </tbody>\n",
       "</table>\n",
       "</div>"
      ],
      "text/plain": [
       "   Gender  Join\n",
       "1    Male     2\n",
       "2  Female     3\n",
       "3    Male     4"
      ]
     },
     "execution_count": 47,
     "metadata": {},
     "output_type": "execute_result"
    }
   ],
   "source": [
    "B.loc[1:3, {\"Gender\", \"Join\"}]"
   ]
  },
  {
   "cell_type": "code",
   "execution_count": 48,
   "id": "7fef7356-7c08-4cec-90f0-c413c6085d05",
   "metadata": {},
   "outputs": [
    {
     "data": {
      "text/html": [
       "<div>\n",
       "<style scoped>\n",
       "    .dataframe tbody tr th:only-of-type {\n",
       "        vertical-align: middle;\n",
       "    }\n",
       "\n",
       "    .dataframe tbody tr th {\n",
       "        vertical-align: top;\n",
       "    }\n",
       "\n",
       "    .dataframe thead th {\n",
       "        text-align: right;\n",
       "    }\n",
       "</style>\n",
       "<table border=\"1\" class=\"dataframe\">\n",
       "  <thead>\n",
       "    <tr style=\"text-align: right;\">\n",
       "      <th></th>\n",
       "      <th>Full Name</th>\n",
       "      <th>Gender</th>\n",
       "      <th>Age</th>\n",
       "      <th>Location</th>\n",
       "      <th>Religion</th>\n",
       "      <th>Join</th>\n",
       "    </tr>\n",
       "  </thead>\n",
       "  <tbody>\n",
       "    <tr>\n",
       "      <th>0</th>\n",
       "      <td>Kola Kola</td>\n",
       "      <td>Male</td>\n",
       "      <td>35</td>\n",
       "      <td>Abuja</td>\n",
       "      <td>Christian</td>\n",
       "      <td>1</td>\n",
       "    </tr>\n",
       "    <tr>\n",
       "      <th>1</th>\n",
       "      <td>Abiodun Isaiah</td>\n",
       "      <td>Male</td>\n",
       "      <td>32</td>\n",
       "      <td>Ibadan</td>\n",
       "      <td>Musilim</td>\n",
       "      <td>2</td>\n",
       "    </tr>\n",
       "    <tr>\n",
       "      <th>2</th>\n",
       "      <td>Iretiogo Toluwani</td>\n",
       "      <td>Female</td>\n",
       "      <td>45</td>\n",
       "      <td>Lagos</td>\n",
       "      <td>Budduh</td>\n",
       "      <td>3</td>\n",
       "    </tr>\n",
       "  </tbody>\n",
       "</table>\n",
       "</div>"
      ],
      "text/plain": [
       "           Full Name  Gender  Age Location   Religion  Join\n",
       "0          Kola Kola    Male   35    Abuja  Christian     1\n",
       "1     Abiodun Isaiah    Male   32   Ibadan    Musilim     2\n",
       "2  Iretiogo Toluwani  Female   45    Lagos     Budduh     3"
      ]
     },
     "execution_count": 48,
     "metadata": {},
     "output_type": "execute_result"
    }
   ],
   "source": [
    "B.loc[B[\"Age\"] >29] #condditional filtering"
   ]
  },
  {
   "cell_type": "code",
   "execution_count": 49,
   "id": "6e08ccfd-eee6-4b1e-a0c0-5b7e97b8604c",
   "metadata": {},
   "outputs": [
    {
     "data": {
      "text/html": [
       "<div>\n",
       "<style scoped>\n",
       "    .dataframe tbody tr th:only-of-type {\n",
       "        vertical-align: middle;\n",
       "    }\n",
       "\n",
       "    .dataframe tbody tr th {\n",
       "        vertical-align: top;\n",
       "    }\n",
       "\n",
       "    .dataframe thead th {\n",
       "        text-align: right;\n",
       "    }\n",
       "</style>\n",
       "<table border=\"1\" class=\"dataframe\">\n",
       "  <thead>\n",
       "    <tr style=\"text-align: right;\">\n",
       "      <th></th>\n",
       "      <th>Full Name</th>\n",
       "      <th>Gender</th>\n",
       "      <th>Age</th>\n",
       "      <th>Location</th>\n",
       "      <th>Religion</th>\n",
       "      <th>Join</th>\n",
       "    </tr>\n",
       "  </thead>\n",
       "  <tbody>\n",
       "    <tr>\n",
       "      <th>2</th>\n",
       "      <td>Iretiogo Toluwani</td>\n",
       "      <td>Female</td>\n",
       "      <td>45</td>\n",
       "      <td>Lagos</td>\n",
       "      <td>Budduh</td>\n",
       "      <td>3</td>\n",
       "    </tr>\n",
       "  </tbody>\n",
       "</table>\n",
       "</div>"
      ],
      "text/plain": [
       "           Full Name  Gender  Age Location Religion  Join\n",
       "2  Iretiogo Toluwani  Female   45    Lagos   Budduh     3"
      ]
     },
     "execution_count": 49,
     "metadata": {},
     "output_type": "execute_result"
    }
   ],
   "source": [
    "B.loc[B[\"Full Name\"] == \"Iretiogo Toluwani\"]"
   ]
  },
  {
   "cell_type": "code",
   "execution_count": 50,
   "id": "2cb98713-3ddf-4c24-ad37-0c0554f4f474",
   "metadata": {},
   "outputs": [
    {
     "data": {
      "text/html": [
       "<div>\n",
       "<style scoped>\n",
       "    .dataframe tbody tr th:only-of-type {\n",
       "        vertical-align: middle;\n",
       "    }\n",
       "\n",
       "    .dataframe tbody tr th {\n",
       "        vertical-align: top;\n",
       "    }\n",
       "\n",
       "    .dataframe thead th {\n",
       "        text-align: right;\n",
       "    }\n",
       "</style>\n",
       "<table border=\"1\" class=\"dataframe\">\n",
       "  <thead>\n",
       "    <tr style=\"text-align: right;\">\n",
       "      <th></th>\n",
       "      <th>Full Name</th>\n",
       "      <th>Gender</th>\n",
       "      <th>Age</th>\n",
       "      <th>Location</th>\n",
       "      <th>Religion</th>\n",
       "      <th>Join</th>\n",
       "    </tr>\n",
       "  </thead>\n",
       "  <tbody>\n",
       "    <tr>\n",
       "      <th>2</th>\n",
       "      <td>Iretiogo Toluwani</td>\n",
       "      <td>Female</td>\n",
       "      <td>45</td>\n",
       "      <td>Lagos</td>\n",
       "      <td>Budduh</td>\n",
       "      <td>3</td>\n",
       "    </tr>\n",
       "  </tbody>\n",
       "</table>\n",
       "</div>"
      ],
      "text/plain": [
       "           Full Name  Gender  Age Location Religion  Join\n",
       "2  Iretiogo Toluwani  Female   45    Lagos   Budduh     3"
      ]
     },
     "execution_count": 50,
     "metadata": {},
     "output_type": "execute_result"
    }
   ],
   "source": [
    "B[(B[\"Age\"] > 29) &(B[\"Join\"]>2)]"
   ]
  },
  {
   "cell_type": "code",
   "execution_count": 51,
   "id": "65c50528-f8c2-4838-af44-40d62df5c2e5",
   "metadata": {},
   "outputs": [
    {
     "data": {
      "text/html": [
       "<div>\n",
       "<style scoped>\n",
       "    .dataframe tbody tr th:only-of-type {\n",
       "        vertical-align: middle;\n",
       "    }\n",
       "\n",
       "    .dataframe tbody tr th {\n",
       "        vertical-align: top;\n",
       "    }\n",
       "\n",
       "    .dataframe thead th {\n",
       "        text-align: right;\n",
       "    }\n",
       "</style>\n",
       "<table border=\"1\" class=\"dataframe\">\n",
       "  <thead>\n",
       "    <tr style=\"text-align: right;\">\n",
       "      <th></th>\n",
       "      <th>Full Name</th>\n",
       "      <th>Gender</th>\n",
       "      <th>Age</th>\n",
       "      <th>Location</th>\n",
       "      <th>Religion</th>\n",
       "      <th>Join</th>\n",
       "    </tr>\n",
       "  </thead>\n",
       "  <tbody>\n",
       "    <tr>\n",
       "      <th>0</th>\n",
       "      <td>Kola Kola</td>\n",
       "      <td>Male</td>\n",
       "      <td>35</td>\n",
       "      <td>Abuja</td>\n",
       "      <td>Christian</td>\n",
       "      <td>1</td>\n",
       "    </tr>\n",
       "    <tr>\n",
       "      <th>1</th>\n",
       "      <td>Abiodun Isaiah</td>\n",
       "      <td>Male</td>\n",
       "      <td>32</td>\n",
       "      <td>Ibadan</td>\n",
       "      <td>Musilim</td>\n",
       "      <td>2</td>\n",
       "    </tr>\n",
       "    <tr>\n",
       "      <th>2</th>\n",
       "      <td>Iretiogo Toluwani</td>\n",
       "      <td>Female</td>\n",
       "      <td>45</td>\n",
       "      <td>Lagos</td>\n",
       "      <td>Budduh</td>\n",
       "      <td>3</td>\n",
       "    </tr>\n",
       "    <tr>\n",
       "      <th>3</th>\n",
       "      <td>Victor Ojo</td>\n",
       "      <td>Male</td>\n",
       "      <td>28</td>\n",
       "      <td>Kano</td>\n",
       "      <td>Christain</td>\n",
       "      <td>4</td>\n",
       "    </tr>\n",
       "    <tr>\n",
       "      <th>4</th>\n",
       "      <td>Tope Adejare</td>\n",
       "      <td>Male</td>\n",
       "      <td>26</td>\n",
       "      <td>Jos</td>\n",
       "      <td>Christain</td>\n",
       "      <td>5</td>\n",
       "    </tr>\n",
       "  </tbody>\n",
       "</table>\n",
       "</div>"
      ],
      "text/plain": [
       "           Full Name  Gender  Age Location    Religion  Join\n",
       "0          Kola Kola    Male   35    Abuja   Christian     1\n",
       "1     Abiodun Isaiah    Male   32   Ibadan     Musilim     2\n",
       "2  Iretiogo Toluwani  Female   45    Lagos      Budduh     3\n",
       "3         Victor Ojo    Male   28     Kano  Christain      4\n",
       "4       Tope Adejare    Male   26      Jos   Christain     5"
      ]
     },
     "execution_count": 51,
     "metadata": {},
     "output_type": "execute_result"
    }
   ],
   "source": [
    "B[(B[\"Age\"] > 29) | (B[\"Join\"]>2)]"
   ]
  },
  {
   "cell_type": "code",
   "execution_count": 55,
   "id": "6af81917-a8ee-4b03-880c-f9c7ebf0dba5",
   "metadata": {},
   "outputs": [
    {
     "name": "stdout",
     "output_type": "stream",
     "text": [
      "60\n"
     ]
    }
   ],
   "source": [
    "print(pd.options.display.max_rows)"
   ]
  },
  {
   "cell_type": "code",
   "execution_count": 56,
   "id": "8ef6a257-dceb-4b38-9c27-d01ee29212e0",
   "metadata": {},
   "outputs": [],
   "source": [
    "pd.options.display.max_rows = 60"
   ]
  }
 ],
 "metadata": {
  "kernelspec": {
   "display_name": "Python 3 (ipykernel)",
   "language": "python",
   "name": "python3"
  },
  "language_info": {
   "codemirror_mode": {
    "name": "ipython",
    "version": 3
   },
   "file_extension": ".py",
   "mimetype": "text/x-python",
   "name": "python",
   "nbconvert_exporter": "python",
   "pygments_lexer": "ipython3",
   "version": "3.12.7"
  }
 },
 "nbformat": 4,
 "nbformat_minor": 5
}
